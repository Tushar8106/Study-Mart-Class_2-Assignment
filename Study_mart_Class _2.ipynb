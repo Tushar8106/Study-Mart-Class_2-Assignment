{
 "cells": [
  {
   "cell_type": "markdown",
   "id": "41c8f121",
   "metadata": {},
   "source": [
    "# 1. Take values of the length & breadth of a rectangle from user input and check if it is square or not."
   ]
  },
  {
   "cell_type": "code",
   "execution_count": 8,
   "id": "98776ded",
   "metadata": {},
   "outputs": [
    {
     "name": "stdout",
     "output_type": "stream",
     "text": [
      "Enter lenth = 4\n",
      "Enter breadth = 4\n",
      "It's a square\n"
     ]
    }
   ],
   "source": [
    "a = float(input(\"Enter lenth = \")) #taking lenth\n",
    "b = float(input(\"Enter breadth = \")) #taking breadth\n",
    "\n",
    "if a==b:\n",
    "              print(\"It's a square\")\n",
    "else:\n",
    "              print(\"It's not a square\")\n",
    "              "
   ]
  },
  {
   "cell_type": "markdown",
   "id": "5c4e7aa9",
   "metadata": {},
   "source": [
    "# 2. Take three integer values from the user and print the greatest among them."
   ]
  },
  {
   "cell_type": "code",
   "execution_count": 15,
   "id": "43355825",
   "metadata": {},
   "outputs": [
    {
     "name": "stdout",
     "output_type": "stream",
     "text": [
      "Enter the 1st number = 20\n",
      "Enter the 2nd number = 25\n",
      "Enter the 3rd number = 10\n",
      "The largest number is =  25\n"
     ]
    }
   ],
   "source": [
    "#taking all values\n",
    "    \n",
    "a = int(input(\"Enter the 1st number = \"))\n",
    "b = int(input(\"Enter the 2nd number = \"))\n",
    "c = int(input(\"Enter the 3rd number = \"))\n",
    "    \n",
    "if a >= b and a >= c:#comapre among three numbers\n",
    "        print(\"The largest number is =\",a)\n",
    "    \n",
    "elif b >= a and b >= c:#comapre among three numbers\n",
    "        print(\"The largest number is = \",b)\n",
    "    \n",
    "else:#rest of the number\n",
    "        print(\"The largest number is =\",c)"
   ]
  },
  {
   "cell_type": "markdown",
   "id": "70ca0c94",
   "metadata": {},
   "source": [
    "# 3. A student will not be allowed to sit in an exam if his/her attendance is less than 75%."
   ]
  },
  {
   "cell_type": "code",
   "execution_count": 1,
   "id": "2a2f236b",
   "metadata": {},
   "outputs": [
    {
     "name": "stdout",
     "output_type": "stream",
     "text": [
      "Enter the number of total classes= 80\n",
      "Enter the number of total attendence= 60\n",
      "Student is allowed to sit in the exam\n"
     ]
    }
   ],
   "source": [
    "total_class = int(input(\"Enter the number of total classes= \"))\n",
    "total_attendence = int(input(\"Enter the number of total attendence= \"))\n",
    "\n",
    "attendance = (total_attendence / total_class) * 100 #condition for percentence of classes\n",
    "\n",
    "if attendance < 75:\n",
    "    print(\"Student is not allowed to sit in the exam\") # since attendnce is below 75\n",
    "    \n",
    "else:\n",
    "    print(\"Student is allowed to sit in the exam\") #condition is filled"
   ]
  },
  {
   "cell_type": "markdown",
   "id": "bfaac8ab",
   "metadata": {},
   "source": [
    "# 4. A school has the following rules for the grading system:\n",
    "Below 25 – F, 25 to 44 – E, 45 to 49 – D, 50 to 59 – C, 60 to 79 – B, 80 to 89 - A, Above 90 - A+\n",
    "Now, Ask the user to enter marks and print the corresponding grade."
   ]
  },
  {
   "cell_type": "code",
   "execution_count": 4,
   "id": "551ada52",
   "metadata": {},
   "outputs": [
    {
     "name": "stdout",
     "output_type": "stream",
     "text": [
      "Enter marks: 79\n",
      "The grade is B\n"
     ]
    }
   ],
   "source": [
    "given_marks = int(input(\"Enter marks: \"))\n",
    "\n",
    "if given_marks < 25:\n",
    "    print(\"The grade is F\")\n",
    "elif given_marks >= 25 and given_marks <= 44:\n",
    "    print(\"The grade is E\")\n",
    "elif given_marks >= 45 and given_marks <= 49:\n",
    "    print(\"The grade is D\")\n",
    "elif given_marks >= 50 and given_marks <= 59:\n",
    "    print(\"The grade is C\")\n",
    "elif given_marks >= 60 and given_marks <= 79:\n",
    "    print(\"The grade is B\")\n",
    "elif given_marks >= 80 and given_marks <= 89:\n",
    "    print(\"The grade is A\")\n",
    "else:\n",
    "    print(\"The grade is A+\")"
   ]
  },
  {
   "cell_type": "markdown",
   "id": "5e82bc6a",
   "metadata": {},
   "source": [
    "# 5. Print the following pattern using for and while loop.\n",
    "\n",
    "1 2 3 4 5 6 7\n",
    "1 2 3 4 5 6\n",
    "1 2 3 4 5\n",
    "1 2 3 4\n"
   ]
  },
  {
   "cell_type": "markdown",
   "id": "f8bb4975",
   "metadata": {},
   "source": [
    "# using for loop"
   ]
  },
  {
   "cell_type": "code",
   "execution_count": 5,
   "id": "0800b6b5",
   "metadata": {},
   "outputs": [
    {
     "name": "stdout",
     "output_type": "stream",
     "text": [
      "1 2 3 4 5 6 7 \n",
      "1 2 3 4 5 6 \n",
      "1 2 3 4 5 \n",
      "1 2 3 4 \n",
      "1 2 3 \n",
      "1 2 \n",
      "1 \n"
     ]
    }
   ],
   "source": [
    "for i in range(7, 0, -1):\n",
    "    for j in range(1, i + 1):\n",
    "        print(j, end=\" \")\n",
    "    print()\n"
   ]
  },
  {
   "cell_type": "markdown",
   "id": "f0c73721",
   "metadata": {},
   "source": [
    "# using while loop"
   ]
  },
  {
   "cell_type": "code",
   "execution_count": 6,
   "id": "e4fe06d7",
   "metadata": {},
   "outputs": [
    {
     "name": "stdout",
     "output_type": "stream",
     "text": [
      "1 2 3 4 5 6 7 \n",
      "1 2 3 4 5 6 \n",
      "1 2 3 4 5 \n",
      "1 2 3 4 \n",
      "1 2 3 \n",
      "1 2 \n",
      "1 \n"
     ]
    }
   ],
   "source": [
    "i = 7\n",
    "while i >= 1:\n",
    "    j = 1\n",
    "    while j <= i:\n",
    "        print(j, end=\" \")\n",
    "        j += 1\n",
    "    print()\n",
    "    i -= 1\n"
   ]
  },
  {
   "cell_type": "markdown",
   "id": "3b0a6424",
   "metadata": {},
   "source": [
    "# 6. Display numbers from -100 to -10 using for loop."
   ]
  },
  {
   "cell_type": "code",
   "execution_count": 2,
   "id": "4ce492af",
   "metadata": {},
   "outputs": [
    {
     "name": "stdout",
     "output_type": "stream",
     "text": [
      "-100 -99 -98 -97 -96 -95 -94 -93 -92 -91 -90 -89 -88 -87 -86 -85 -84 -83 -82 -81 -80 -79 -78 -77 -76 -75 -74 -73 -72 -71 -70 -69 -68 -67 -66 -65 -64 -63 -62 -61 -60 -59 -58 -57 -56 -55 -54 -53 -52 -51 -50 -49 -48 -47 -46 -45 -44 -43 -42 -41 -40 -39 -38 -37 -36 -35 -34 -33 -32 -31 -30 -29 -28 -27 -26 -25 -24 -23 -22 -21 -20 -19 -18 -17 -16 -15 -14 -13 -12 -11 -10 "
     ]
    }
   ],
   "source": [
    "for number in range(-100, -9):\n",
    "    print(number, end=\" \")\n"
   ]
  },
  {
   "cell_type": "markdown",
   "id": "64ec20cc",
   "metadata": {},
   "source": [
    "# 7. Write a program to sum all prime numbers within a range of 10 to 1000."
   ]
  },
  {
   "cell_type": "code",
   "execution_count": 5,
   "id": "d48bf530",
   "metadata": {},
   "outputs": [
    {
     "name": "stdout",
     "output_type": "stream",
     "text": [
      "The sum of prime numbers from 10 to 1000  76110\n"
     ]
    }
   ],
   "source": [
    "def is_prime(n): #define prime number\n",
    "    if n < 2:\n",
    "        return False\n",
    "    for i in range(2, int(n**0.5) + 1):\n",
    "        if n % i == 0:\n",
    "            return False\n",
    "    return True\n",
    "\n",
    "lower_limit = 10 #given number\n",
    "upper_limit = 1000 #given number\n",
    "prime_sum = 0\n",
    "\n",
    "for num in range(lower_limit, upper_limit + 1): #summation operation\n",
    "    if is_prime(num):\n",
    "        prime_sum += num\n",
    "\n",
    "print(\"The sum of prime numbers from 10 to 1000 \", prime_sum)\n"
   ]
  },
  {
   "cell_type": "markdown",
   "id": "3c581a41",
   "metadata": {},
   "source": [
    "# 9. Reverse a given integer number 27956240710."
   ]
  },
  {
   "cell_type": "code",
   "execution_count": 6,
   "id": "820e1103",
   "metadata": {},
   "outputs": [
    {
     "name": "stdout",
     "output_type": "stream",
     "text": [
      "1704265972\n"
     ]
    }
   ],
   "source": [
    "number = 27956240710\n",
    "\n",
    "# Convert the number to a string\n",
    "number_str = str(number)\n",
    "\n",
    "# Reverse the string\n",
    "reversed_str = number_str[::-1]\n",
    "\n",
    "# Convert the reversed string back to an integer\n",
    "reversed_number = int(reversed_str)\n",
    "\n",
    "print(reversed_number)\n"
   ]
  },
  {
   "cell_type": "markdown",
   "id": "0b2bb8e1",
   "metadata": {},
   "source": [
    "# 11. Display the Fibonacci series of 15 elements using the for and while loop."
   ]
  },
  {
   "cell_type": "markdown",
   "id": "d8ecd173",
   "metadata": {},
   "source": [
    "# Using For Loop"
   ]
  },
  {
   "cell_type": "code",
   "execution_count": 7,
   "id": "f215f65c",
   "metadata": {},
   "outputs": [
    {
     "name": "stdout",
     "output_type": "stream",
     "text": [
      "0 1 1 2 3 5 8 13 21 34 55 89 144 233 377 "
     ]
    }
   ],
   "source": [
    "# Initialize the first two elements of the series\n",
    "fibonacci = [0, 1]\n",
    "\n",
    "# Generate the Fibonacci series using a for loop\n",
    "for i in range(2, 15):\n",
    "    next_num = fibonacci[i - 1] + fibonacci[i - 2]\n",
    "    fibonacci.append(next_num)\n",
    "\n",
    "# Display the Fibonacci series\n",
    "for num in fibonacci:\n",
    "    print(num, end=' ')\n"
   ]
  },
  {
   "cell_type": "markdown",
   "id": "649cb917",
   "metadata": {},
   "source": [
    "# Using While Loop"
   ]
  },
  {
   "cell_type": "code",
   "execution_count": 8,
   "id": "bb051fad",
   "metadata": {},
   "outputs": [
    {
     "name": "stdout",
     "output_type": "stream",
     "text": [
      "0 1 1 2 3 5 8 13 21 34 55 89 144 233 377 "
     ]
    }
   ],
   "source": [
    "# Initialize the first two elements of the series\n",
    "fibonacci = [0, 1]\n",
    "count = 2\n",
    "\n",
    "# Generate the Fibonacci series using a while loop\n",
    "while count < 15:\n",
    "    next_num = fibonacci[count - 1] + fibonacci[count - 2]\n",
    "    fibonacci.append(next_num)\n",
    "    count += 1\n",
    "\n",
    "# Display the Fibonacci series\n",
    "for num in fibonacci:\n",
    "    print(num, end=' ')\n"
   ]
  },
  {
   "cell_type": "markdown",
   "id": "e0845a48",
   "metadata": {},
   "source": [
    "# 12. Remove 2 and add 3 to the list and replace True with False.\n",
    "Li = [1,3,5, [2,3], True]"
   ]
  },
  {
   "cell_type": "code",
   "execution_count": 17,
   "id": "61b44b18",
   "metadata": {},
   "outputs": [
    {
     "name": "stdout",
     "output_type": "stream",
     "text": [
      "[1, 3, 5, [3, 3], False]\n"
     ]
    }
   ],
   "source": [
    "\n",
    "Li = [1, 3, 5, [2, 3], True]\n",
    "#remove 2\n",
    "Li[3].remove(2)\n",
    "#add 3\n",
    "Li[3].append(3)\n",
    "\n",
    "Li[4] = False\n",
    "\n",
    "print(Li)"
   ]
  },
  {
   "cell_type": "markdown",
   "id": "4f152023",
   "metadata": {},
   "source": [
    "# 13. Find the intersection (common) of two sets.\n",
    "S1 = {1,4,6,8}\n",
    "S2 = {True, 1,2,10}"
   ]
  },
  {
   "cell_type": "code",
   "execution_count": 16,
   "id": "622135fc",
   "metadata": {},
   "outputs": [
    {
     "name": "stdout",
     "output_type": "stream",
     "text": [
      "{True}\n"
     ]
    }
   ],
   "source": [
    "S1 = {1, 4, 6, 8}\n",
    "S2 = {True, 1, 2, 10}\n",
    "\n",
    "intersection_set = S1.intersection(S2)  # Using the intersection method\n",
    "\n",
    "print(intersection_set)"
   ]
  },
  {
   "cell_type": "markdown",
   "id": "0f48eb81",
   "metadata": {},
   "source": [
    "# 15. Rename the key of a dictionary. \n",
    "Dict = { \"name\": \"Shakil\", \"age\":27, \"city\": “Berlin”, \"country\": \"Germany\" }\n",
    "Write a program to rename a key ‘country’ to a ‘region’ in the following dictionary."
   ]
  },
  {
   "cell_type": "code",
   "execution_count": 18,
   "id": "77a2e2a7",
   "metadata": {},
   "outputs": [
    {
     "name": "stdout",
     "output_type": "stream",
     "text": [
      "{'name': 'Shakil', 'age': 27, 'city': 'Berlin', 'region': 'Germany'}\n"
     ]
    }
   ],
   "source": [
    "dictionary = { \"name\": \"Shakil\", \"age\": 27, \"city\": \"Berlin\", \"country\": \"Germany\" }\n",
    "\n",
    "# Renaming the key\n",
    "dictionary['region'] = dictionary.pop('country')\n",
    "\n",
    "# Printing the new dictionary\n",
    "print(dictionary)"
   ]
  },
  {
   "cell_type": "markdown",
   "id": "ffcab755",
   "metadata": {},
   "source": [
    "# 16. Creating a data frame using the list.\n",
    "num = [10,100,300] (column name is number)"
   ]
  },
  {
   "cell_type": "code",
   "execution_count": 19,
   "id": "30e65746",
   "metadata": {},
   "outputs": [
    {
     "name": "stdout",
     "output_type": "stream",
     "text": [
      "   number\n",
      "0      10\n",
      "1     100\n",
      "2     300\n"
     ]
    }
   ],
   "source": [
    "import pandas as pd\n",
    "\n",
    "num = [10, 100, 300]\n",
    "df = pd.DataFrame({'number': num})\n",
    "\n",
    "print(df)"
   ]
  },
  {
   "cell_type": "code",
   "execution_count": null,
   "id": "39a66180",
   "metadata": {},
   "outputs": [],
   "source": []
  }
 ],
 "metadata": {
  "kernelspec": {
   "display_name": "Python 3 (ipykernel)",
   "language": "python",
   "name": "python3"
  },
  "language_info": {
   "codemirror_mode": {
    "name": "ipython",
    "version": 3
   },
   "file_extension": ".py",
   "mimetype": "text/x-python",
   "name": "python",
   "nbconvert_exporter": "python",
   "pygments_lexer": "ipython3",
   "version": "3.9.13"
  }
 },
 "nbformat": 4,
 "nbformat_minor": 5
}
